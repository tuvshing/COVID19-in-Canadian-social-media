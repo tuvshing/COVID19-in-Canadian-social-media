{
 "cells": [
  {
   "cell_type": "code",
   "execution_count": 1,
   "id": "39ffdf2a",
   "metadata": {},
   "outputs": [
    {
     "name": "stderr",
     "output_type": "stream",
     "text": [
      "[nltk_data] Downloading package stopwords to\n",
      "[nltk_data]     C:\\Users\\spart\\AppData\\Roaming\\nltk_data...\n",
      "[nltk_data]   Package stopwords is already up-to-date!\n"
     ]
    }
   ],
   "source": [
    "import pandas as pd\n",
    "import glob\n",
    "import nltk\n",
    "nltk.download('stopwords')\n",
    "from nltk.corpus import stopwords\n",
    "stop = stopwords.words('english')"
   ]
  },
  {
   "cell_type": "code",
   "execution_count": 2,
   "id": "53e817f8",
   "metadata": {},
   "outputs": [],
   "source": [
    "train_files = glob.glob(\"./*.json\")"
   ]
  },
  {
   "cell_type": "code",
   "execution_count": 3,
   "id": "cc2fa33b",
   "metadata": {},
   "outputs": [],
   "source": [
    "df_train = pd.DataFrame()\n",
    "for count,ele in enumerate(train_files,len(train_files)):\n",
    "    df_train = pd.concat([df_train, pd.read_json(ele)])\n",
    "\n",
    "df_train.to_csv(\"df_train.csv\",index=False)"
   ]
  },
  {
   "cell_type": "code",
   "execution_count": 4,
   "id": "0951ec1c",
   "metadata": {},
   "outputs": [
    {
     "data": {
      "text/html": [
       "<div>\n",
       "<style scoped>\n",
       "    .dataframe tbody tr th:only-of-type {\n",
       "        vertical-align: middle;\n",
       "    }\n",
       "\n",
       "    .dataframe tbody tr th {\n",
       "        vertical-align: top;\n",
       "    }\n",
       "\n",
       "    .dataframe thead th {\n",
       "        text-align: right;\n",
       "    }\n",
       "</style>\n",
       "<table border=\"1\" class=\"dataframe\">\n",
       "  <thead>\n",
       "    <tr style=\"text-align: right;\">\n",
       "      <th></th>\n",
       "      <th>created_at</th>\n",
       "      <th>id</th>\n",
       "      <th>text</th>\n",
       "    </tr>\n",
       "  </thead>\n",
       "  <tbody>\n",
       "    <tr>\n",
       "      <th>0</th>\n",
       "      <td>2021-11-25 17:11:10+00:00</td>\n",
       "      <td>1463918194402504706</td>\n",
       "      <td>I honestly firmly believe that the unvaccinate...</td>\n",
       "    </tr>\n",
       "    <tr>\n",
       "      <th>1</th>\n",
       "      <td>2021-11-25 17:11:10+00:00</td>\n",
       "      <td>1463918194410897427</td>\n",
       "      <td>@ollysmithtravel @AlistairHaimes @chrischirp P...</td>\n",
       "    </tr>\n",
       "    <tr>\n",
       "      <th>2</th>\n",
       "      <td>2021-11-25 17:11:11+00:00</td>\n",
       "      <td>1463918197913042947</td>\n",
       "      <td>@BorisJohnson Yet your govt's own Info for Hea...</td>\n",
       "    </tr>\n",
       "    <tr>\n",
       "      <th>3</th>\n",
       "      <td>2021-11-25 17:11:15+00:00</td>\n",
       "      <td>1463918214556094465</td>\n",
       "      <td>If covid rates go up it’s cos of all these peo...</td>\n",
       "    </tr>\n",
       "    <tr>\n",
       "      <th>4</th>\n",
       "      <td>2021-11-25 17:11:17+00:00</td>\n",
       "      <td>1463918222978256896</td>\n",
       "      <td>Shots of Pfizer's pediatric COVID vaccine have...</td>\n",
       "    </tr>\n",
       "  </tbody>\n",
       "</table>\n",
       "</div>"
      ],
      "text/plain": [
       "                 created_at                   id  \\\n",
       "0 2021-11-25 17:11:10+00:00  1463918194402504706   \n",
       "1 2021-11-25 17:11:10+00:00  1463918194410897427   \n",
       "2 2021-11-25 17:11:11+00:00  1463918197913042947   \n",
       "3 2021-11-25 17:11:15+00:00  1463918214556094465   \n",
       "4 2021-11-25 17:11:17+00:00  1463918222978256896   \n",
       "\n",
       "                                                text  \n",
       "0  I honestly firmly believe that the unvaccinate...  \n",
       "1  @ollysmithtravel @AlistairHaimes @chrischirp P...  \n",
       "2  @BorisJohnson Yet your govt's own Info for Hea...  \n",
       "3  If covid rates go up it’s cos of all these peo...  \n",
       "4  Shots of Pfizer's pediatric COVID vaccine have...  "
      ]
     },
     "execution_count": 4,
     "metadata": {},
     "output_type": "execute_result"
    }
   ],
   "source": [
    "df_train.head()"
   ]
  },
  {
   "cell_type": "code",
   "execution_count": 5,
   "id": "c5f198b7",
   "metadata": {},
   "outputs": [],
   "source": [
    "df_train['text'] = df_train['text'].str.lower()"
   ]
  },
  {
   "cell_type": "code",
   "execution_count": 6,
   "id": "99585bec",
   "metadata": {},
   "outputs": [],
   "source": [
    "pat = r'\\b(?:{})\\b'.format('|'.join(stop))\n",
    "df_train['text_nsw'] = df_train['text'].str.replace(pat, '')\n",
    "df_train['text_nsw'] = df_train['text_nsw'].str.replace(r'\\s+', ' ')"
   ]
  },
  {
   "cell_type": "code",
   "execution_count": 7,
   "id": "d3ef4bcf",
   "metadata": {},
   "outputs": [
    {
     "data": {
      "text/html": [
       "<div>\n",
       "<style scoped>\n",
       "    .dataframe tbody tr th:only-of-type {\n",
       "        vertical-align: middle;\n",
       "    }\n",
       "\n",
       "    .dataframe tbody tr th {\n",
       "        vertical-align: top;\n",
       "    }\n",
       "\n",
       "    .dataframe thead th {\n",
       "        text-align: right;\n",
       "    }\n",
       "</style>\n",
       "<table border=\"1\" class=\"dataframe\">\n",
       "  <thead>\n",
       "    <tr style=\"text-align: right;\">\n",
       "      <th></th>\n",
       "      <th>created_at</th>\n",
       "      <th>id</th>\n",
       "      <th>text</th>\n",
       "      <th>text_nsw</th>\n",
       "    </tr>\n",
       "  </thead>\n",
       "  <tbody>\n",
       "    <tr>\n",
       "      <th>0</th>\n",
       "      <td>2021-11-25 17:11:10+00:00</td>\n",
       "      <td>1463918194402504706</td>\n",
       "      <td>i honestly firmly believe that the unvaccinate...</td>\n",
       "      <td>honestly firmly believe unvaccinated foot bil...</td>\n",
       "    </tr>\n",
       "    <tr>\n",
       "      <th>1</th>\n",
       "      <td>2021-11-25 17:11:10+00:00</td>\n",
       "      <td>1463918194410897427</td>\n",
       "      <td>@ollysmithtravel @alistairhaimes @chrischirp p...</td>\n",
       "      <td>@ollysmithtravel @alistairhaimes @chrischirp p...</td>\n",
       "    </tr>\n",
       "    <tr>\n",
       "      <th>2</th>\n",
       "      <td>2021-11-25 17:11:11+00:00</td>\n",
       "      <td>1463918197913042947</td>\n",
       "      <td>@borisjohnson yet your govt's own info for hea...</td>\n",
       "      <td>@borisjohnson yet govt' info healthcare profes...</td>\n",
       "    </tr>\n",
       "    <tr>\n",
       "      <th>3</th>\n",
       "      <td>2021-11-25 17:11:15+00:00</td>\n",
       "      <td>1463918214556094465</td>\n",
       "      <td>if covid rates go up it’s cos of all these peo...</td>\n",
       "      <td>covid rates go ’ cos people coming country bo...</td>\n",
       "    </tr>\n",
       "    <tr>\n",
       "      <th>4</th>\n",
       "      <td>2021-11-25 17:11:17+00:00</td>\n",
       "      <td>1463918222978256896</td>\n",
       "      <td>shots of pfizer's pediatric covid vaccine have...</td>\n",
       "      <td>shots pfizer' pediatric covid vaccine started ...</td>\n",
       "    </tr>\n",
       "  </tbody>\n",
       "</table>\n",
       "</div>"
      ],
      "text/plain": [
       "                 created_at                   id  \\\n",
       "0 2021-11-25 17:11:10+00:00  1463918194402504706   \n",
       "1 2021-11-25 17:11:10+00:00  1463918194410897427   \n",
       "2 2021-11-25 17:11:11+00:00  1463918197913042947   \n",
       "3 2021-11-25 17:11:15+00:00  1463918214556094465   \n",
       "4 2021-11-25 17:11:17+00:00  1463918222978256896   \n",
       "\n",
       "                                                text  \\\n",
       "0  i honestly firmly believe that the unvaccinate...   \n",
       "1  @ollysmithtravel @alistairhaimes @chrischirp p...   \n",
       "2  @borisjohnson yet your govt's own info for hea...   \n",
       "3  if covid rates go up it’s cos of all these peo...   \n",
       "4  shots of pfizer's pediatric covid vaccine have...   \n",
       "\n",
       "                                            text_nsw  \n",
       "0   honestly firmly believe unvaccinated foot bil...  \n",
       "1  @ollysmithtravel @alistairhaimes @chrischirp p...  \n",
       "2  @borisjohnson yet govt' info healthcare profes...  \n",
       "3   covid rates go ’ cos people coming country bo...  \n",
       "4  shots pfizer' pediatric covid vaccine started ...  "
      ]
     },
     "execution_count": 7,
     "metadata": {},
     "output_type": "execute_result"
    }
   ],
   "source": [
    "df_train.head()"
   ]
  },
  {
   "cell_type": "code",
   "execution_count": 9,
   "id": "d8be52c7",
   "metadata": {},
   "outputs": [],
   "source": [
    "df_train.to_csv('collected_tweets.csv')"
   ]
  },
  {
   "cell_type": "code",
   "execution_count": null,
   "id": "bcac310c",
   "metadata": {},
   "outputs": [],
   "source": []
  }
 ],
 "metadata": {
  "kernelspec": {
   "display_name": "Python 3",
   "language": "python",
   "name": "python3"
  },
  "language_info": {
   "codemirror_mode": {
    "name": "ipython",
    "version": 3
   },
   "file_extension": ".py",
   "mimetype": "text/x-python",
   "name": "python",
   "nbconvert_exporter": "python",
   "pygments_lexer": "ipython3",
   "version": "3.8.5"
  }
 },
 "nbformat": 4,
 "nbformat_minor": 5
}
